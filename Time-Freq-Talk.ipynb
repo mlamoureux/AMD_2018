{
 "cells": [
  {
   "cell_type": "markdown",
   "metadata": {
    "slideshow": {
     "slide_type": "slide"
    }
   },
   "source": [
    "# Time-Frequency Methods in Analysis\n",
    "\n",
    "$\\vphantom{hey dude}$\n",
    "\n",
    "### University of Calgary\n",
    "\n",
    "$\\vphantom{hey dude}$\n",
    "\n",
    "### March 23, 2016\n",
    "\n",
    "$\\vphantom{hey dude}$\n",
    "\n",
    "### Michael P. Lamoureux"
   ]
  },
  {
   "cell_type": "markdown",
   "metadata": {
    "slideshow": {
     "slide_type": "slide"
    }
   },
   "source": [
    "**Abstract:**\n",
    "\n",
    "Harmonic analysis is concerned with the representation of functions as the superposition of basic elements like sines and cosines. \n",
    "\n",
    "It is a generalization of Fourier series and Fourier transforms and has wide applicability in the study of partial differential equations, digital signal processing, image analysis and data compression. \n",
    "\n",
    "In this talk, we will look at some of the basics of time-frequency analysis, which focuses on the representation of a function in complementary variables such as time and frequency, or space and wave-number. We will look at how these methods are useful in modelling music and waves."
   ]
  },
  {
   "cell_type": "markdown",
   "metadata": {
    "slideshow": {
     "slide_type": "slide"
    }
   },
   "source": [
    "### Sub-abstract\n",
    "This talk is written on a Jupyter Notebook. It includes text, TeX, and computer code. All in one place, for easy use and re-use. \n",
    "\n",
    "\"Eat your own dogfood.\""
   ]
  },
  {
   "cell_type": "code",
   "execution_count": 1,
   "metadata": {
    "slideshow": {
     "slide_type": "subslide"
    }
   },
   "outputs": [
    {
     "name": "stdout",
     "output_type": "stream",
     "text": [
      "Populating the interactive namespace from numpy and matplotlib\n"
     ]
    }
   ],
   "source": [
    "%pylab inline"
   ]
  },
  {
   "cell_type": "code",
   "execution_count": 10,
   "metadata": {
    "collapsed": true
   },
   "outputs": [],
   "source": [
    "from matplotlib import animation, rc\n",
    "from IPython.display import HTML"
   ]
  },
  {
   "cell_type": "code",
   "execution_count": 2,
   "metadata": {
    "collapsed": true,
    "slideshow": {
     "slide_type": "subslide"
    }
   },
   "outputs": [],
   "source": [
    "from tempfile import NamedTemporaryFile\n",
    "\n",
    "VIDEO_TAG = \"\"\"<video controls>\n",
    " <source src=\"data:video/x-m4v;base64,{0}\" type=\"video/mp4\">\n",
    " Your browser does not support the video tag.\n",
    "</video>\"\"\"\n",
    "\n",
    "def anim_to_html(anim):\n",
    "    if not hasattr(anim, '_encoded_video'):\n",
    "        with NamedTemporaryFile(suffix='.mp4') as f:\n",
    "            anim.save(f.name, fps=20, extra_args=['-vcodec', 'libx264', '-pix_fmt', 'yuv420p'])\n",
    "            video = open(f.name, \"rb\").read()\n",
    "        anim._encoded_video = video.encode(\"base64\")\n",
    "    \n",
    "    return VIDEO_TAG.format(anim._encoded_video)"
   ]
  },
  {
   "cell_type": "code",
   "execution_count": 3,
   "metadata": {
    "collapsed": true,
    "slideshow": {
     "slide_type": "subslide"
    }
   },
   "outputs": [],
   "source": [
    "from IPython.display import HTML\n",
    "\n",
    "def display_animation(anim):\n",
    "    plt.close(anim._fig)\n",
    "    return HTML(anim_to_html(anim))\n"
   ]
  },
  {
   "cell_type": "code",
   "execution_count": 11,
   "metadata": {
    "slideshow": {
     "slide_type": "subslide"
    }
   },
   "outputs": [
    {
     "ename": "AttributeError",
     "evalue": "'bytes' object has no attribute 'encode'",
     "output_type": "error",
     "traceback": [
      "\u001b[0;31m---------------------------------------------------------------------------\u001b[0m",
      "\u001b[0;31mAttributeError\u001b[0m                            Traceback (most recent call last)",
      "\u001b[0;32m<ipython-input-11-bbd6a31b72e2>\u001b[0m in \u001b[0;36m<module>\u001b[0;34m()\u001b[0m\n\u001b[1;32m     22\u001b[0m                                frames=100, interval=20, blit=True)\n\u001b[1;32m     23\u001b[0m \u001b[0;34m\u001b[0m\u001b[0m\n\u001b[0;32m---> 24\u001b[0;31m \u001b[0mdisplay_animation\u001b[0m\u001b[0;34m(\u001b[0m\u001b[0manim\u001b[0m\u001b[0;34m)\u001b[0m\u001b[0;34m\u001b[0m\u001b[0m\n\u001b[0m",
      "\u001b[0;32m<ipython-input-3-63a8cd04f4be>\u001b[0m in \u001b[0;36mdisplay_animation\u001b[0;34m(anim)\u001b[0m\n\u001b[1;32m      3\u001b[0m \u001b[0;32mdef\u001b[0m \u001b[0mdisplay_animation\u001b[0m\u001b[0;34m(\u001b[0m\u001b[0manim\u001b[0m\u001b[0;34m)\u001b[0m\u001b[0;34m:\u001b[0m\u001b[0;34m\u001b[0m\u001b[0m\n\u001b[1;32m      4\u001b[0m     \u001b[0mplt\u001b[0m\u001b[0;34m.\u001b[0m\u001b[0mclose\u001b[0m\u001b[0;34m(\u001b[0m\u001b[0manim\u001b[0m\u001b[0;34m.\u001b[0m\u001b[0m_fig\u001b[0m\u001b[0;34m)\u001b[0m\u001b[0;34m\u001b[0m\u001b[0m\n\u001b[0;32m----> 5\u001b[0;31m     \u001b[0;32mreturn\u001b[0m \u001b[0mHTML\u001b[0m\u001b[0;34m(\u001b[0m\u001b[0manim_to_html\u001b[0m\u001b[0;34m(\u001b[0m\u001b[0manim\u001b[0m\u001b[0;34m)\u001b[0m\u001b[0;34m)\u001b[0m\u001b[0;34m\u001b[0m\u001b[0m\n\u001b[0m",
      "\u001b[0;32m<ipython-input-2-adbeb94273d0>\u001b[0m in \u001b[0;36manim_to_html\u001b[0;34m(anim)\u001b[0m\n\u001b[1;32m     11\u001b[0m             \u001b[0manim\u001b[0m\u001b[0;34m.\u001b[0m\u001b[0msave\u001b[0m\u001b[0;34m(\u001b[0m\u001b[0mf\u001b[0m\u001b[0;34m.\u001b[0m\u001b[0mname\u001b[0m\u001b[0;34m,\u001b[0m \u001b[0mfps\u001b[0m\u001b[0;34m=\u001b[0m\u001b[0;36m20\u001b[0m\u001b[0;34m,\u001b[0m \u001b[0mextra_args\u001b[0m\u001b[0;34m=\u001b[0m\u001b[0;34m[\u001b[0m\u001b[0;34m'-vcodec'\u001b[0m\u001b[0;34m,\u001b[0m \u001b[0;34m'libx264'\u001b[0m\u001b[0;34m,\u001b[0m \u001b[0;34m'-pix_fmt'\u001b[0m\u001b[0;34m,\u001b[0m \u001b[0;34m'yuv420p'\u001b[0m\u001b[0;34m]\u001b[0m\u001b[0;34m)\u001b[0m\u001b[0;34m\u001b[0m\u001b[0m\n\u001b[1;32m     12\u001b[0m             \u001b[0mvideo\u001b[0m \u001b[0;34m=\u001b[0m \u001b[0mopen\u001b[0m\u001b[0;34m(\u001b[0m\u001b[0mf\u001b[0m\u001b[0;34m.\u001b[0m\u001b[0mname\u001b[0m\u001b[0;34m,\u001b[0m \u001b[0;34m\"rb\"\u001b[0m\u001b[0;34m)\u001b[0m\u001b[0;34m.\u001b[0m\u001b[0mread\u001b[0m\u001b[0;34m(\u001b[0m\u001b[0;34m)\u001b[0m\u001b[0;34m\u001b[0m\u001b[0m\n\u001b[0;32m---> 13\u001b[0;31m         \u001b[0manim\u001b[0m\u001b[0;34m.\u001b[0m\u001b[0m_encoded_video\u001b[0m \u001b[0;34m=\u001b[0m \u001b[0mvideo\u001b[0m\u001b[0;34m.\u001b[0m\u001b[0mencode\u001b[0m\u001b[0;34m(\u001b[0m\u001b[0;34m\"base64\"\u001b[0m\u001b[0;34m)\u001b[0m\u001b[0;34m\u001b[0m\u001b[0m\n\u001b[0m\u001b[1;32m     14\u001b[0m \u001b[0;34m\u001b[0m\u001b[0m\n\u001b[1;32m     15\u001b[0m     \u001b[0;32mreturn\u001b[0m \u001b[0mVIDEO_TAG\u001b[0m\u001b[0;34m.\u001b[0m\u001b[0mformat\u001b[0m\u001b[0;34m(\u001b[0m\u001b[0manim\u001b[0m\u001b[0;34m.\u001b[0m\u001b[0m_encoded_video\u001b[0m\u001b[0;34m)\u001b[0m\u001b[0;34m\u001b[0m\u001b[0m\n",
      "\u001b[0;31mAttributeError\u001b[0m: 'bytes' object has no attribute 'encode'"
     ]
    }
   ],
   "source": [
    "from matplotlib import animation\n",
    "\n",
    "# First set up the figure, the axis, and the plot element we want to animate\n",
    "fig = plt.figure()\n",
    "ax = plt.axes(xlim=(0, 2), ylim=(-2, 2))\n",
    "line, = ax.plot([], [], lw=2)\n",
    "\n",
    "# initialization function: plot the background of each frame\n",
    "def init():\n",
    "    line.set_data([], [])\n",
    "    return line,\n",
    "\n",
    "# animation function.  This is called sequentially\n",
    "def animate(i):\n",
    "    x = np.linspace(0, 2, 1000)\n",
    "    y = np.sin(2 * np.pi * (x - 0.01 * i))\n",
    "    line.set_data(x, y)\n",
    "    return line,\n",
    "\n",
    "# call the animator.  blit=True means only re-draw the parts that have changed.\n",
    "anim=animation.FuncAnimation(fig, animate, init_func=init,\n",
    "                               frames=100, interval=20, blit=True)\n",
    "\n",
    "display_animation(anim)"
   ]
  },
  {
   "cell_type": "code",
   "execution_count": null,
   "metadata": {
    "collapsed": true
   },
   "outputs": [],
   "source": [
    "anim.save('test1.mp4', fps=20, extra_args=['-vcodec', 'libx264', '-pix_fmt', 'yuv420p'])"
   ]
  },
  {
   "cell_type": "code",
   "execution_count": 5,
   "metadata": {},
   "outputs": [
    {
     "name": "stdout",
     "output_type": "stream",
     "text": [
      "1_Master_File.ipynb\n",
      "2D_Animation.ipynb\n",
      "2D_Plots.ipynb\n",
      "2D_Widgets.ipynb\n",
      "3D_Animation.ipynb\n",
      "3D_Plots.ipynb\n",
      "3D_Plots_Namespaces.ipynb\n",
      "3D_Widgets.ipynb\n",
      "ButterflyRedBlue25.png\n",
      "FixedPointExample.ipynb\n",
      "JupyterLaunchHere.command\n",
      "Jupyter_Research_and_Teaching.ipynb\n",
      "NSERC_pie.png\n",
      "NSERC_plot.png\n",
      "Notes_to_Michael.txt\n",
      "ODEtests.ipynb\n",
      "P_Data_analysis.ipynb\n",
      "P_d3-play.ipynb\n",
      "Stochtest.ipynb\n",
      "Time-Freq-Talk.ipynb\n",
      "Using_Julia.ipynb\n",
      "Using_Python.ipynb\n",
      "Using_R.ipynb\n",
      "WaveSolver.ipynb\n",
      "Widget_audio.ipynb\n",
      "__tmp15989_1.html\n",
      "f1.template\n",
      "knot.mp4\n",
      "manystring.py\n",
      "mathieu.svg\n",
      "widgets.ipynb\n"
     ]
    }
   ],
   "source": [
    "%%bash\n",
    "ls"
   ]
  },
  {
   "cell_type": "code",
   "execution_count": 6,
   "metadata": {
    "collapsed": true,
    "slideshow": {
     "slide_type": "subslide"
    }
   },
   "outputs": [],
   "source": [
    "animation.Animation._repr_html_ = anim_to_html"
   ]
  },
  {
   "cell_type": "code",
   "execution_count": 7,
   "metadata": {
    "slideshow": {
     "slide_type": "slide"
    }
   },
   "outputs": [
    {
     "ename": "AttributeError",
     "evalue": "'bytes' object has no attribute 'encode'",
     "output_type": "error",
     "traceback": [
      "\u001b[0;31m---------------------------------------------------------------------------\u001b[0m",
      "\u001b[0;31mAttributeError\u001b[0m                            Traceback (most recent call last)",
      "\u001b[0;32m/Users/mikel/anaconda/lib/python3.6/site-packages/IPython/core/formatters.py\u001b[0m in \u001b[0;36m__call__\u001b[0;34m(self, obj)\u001b[0m\n\u001b[1;32m    309\u001b[0m             \u001b[0mmethod\u001b[0m \u001b[0;34m=\u001b[0m \u001b[0mget_real_method\u001b[0m\u001b[0;34m(\u001b[0m\u001b[0mobj\u001b[0m\u001b[0;34m,\u001b[0m \u001b[0mself\u001b[0m\u001b[0;34m.\u001b[0m\u001b[0mprint_method\u001b[0m\u001b[0;34m)\u001b[0m\u001b[0;34m\u001b[0m\u001b[0m\n\u001b[1;32m    310\u001b[0m             \u001b[0;32mif\u001b[0m \u001b[0mmethod\u001b[0m \u001b[0;32mis\u001b[0m \u001b[0;32mnot\u001b[0m \u001b[0;32mNone\u001b[0m\u001b[0;34m:\u001b[0m\u001b[0;34m\u001b[0m\u001b[0m\n\u001b[0;32m--> 311\u001b[0;31m                 \u001b[0;32mreturn\u001b[0m \u001b[0mmethod\u001b[0m\u001b[0;34m(\u001b[0m\u001b[0;34m)\u001b[0m\u001b[0;34m\u001b[0m\u001b[0m\n\u001b[0m\u001b[1;32m    312\u001b[0m             \u001b[0;32mreturn\u001b[0m \u001b[0;32mNone\u001b[0m\u001b[0;34m\u001b[0m\u001b[0m\n\u001b[1;32m    313\u001b[0m         \u001b[0;32melse\u001b[0m\u001b[0;34m:\u001b[0m\u001b[0;34m\u001b[0m\u001b[0m\n",
      "\u001b[0;32m<ipython-input-2-adbeb94273d0>\u001b[0m in \u001b[0;36manim_to_html\u001b[0;34m(anim)\u001b[0m\n\u001b[1;32m     11\u001b[0m             \u001b[0manim\u001b[0m\u001b[0;34m.\u001b[0m\u001b[0msave\u001b[0m\u001b[0;34m(\u001b[0m\u001b[0mf\u001b[0m\u001b[0;34m.\u001b[0m\u001b[0mname\u001b[0m\u001b[0;34m,\u001b[0m \u001b[0mfps\u001b[0m\u001b[0;34m=\u001b[0m\u001b[0;36m20\u001b[0m\u001b[0;34m,\u001b[0m \u001b[0mextra_args\u001b[0m\u001b[0;34m=\u001b[0m\u001b[0;34m[\u001b[0m\u001b[0;34m'-vcodec'\u001b[0m\u001b[0;34m,\u001b[0m \u001b[0;34m'libx264'\u001b[0m\u001b[0;34m,\u001b[0m \u001b[0;34m'-pix_fmt'\u001b[0m\u001b[0;34m,\u001b[0m \u001b[0;34m'yuv420p'\u001b[0m\u001b[0;34m]\u001b[0m\u001b[0;34m)\u001b[0m\u001b[0;34m\u001b[0m\u001b[0m\n\u001b[1;32m     12\u001b[0m             \u001b[0mvideo\u001b[0m \u001b[0;34m=\u001b[0m \u001b[0mopen\u001b[0m\u001b[0;34m(\u001b[0m\u001b[0mf\u001b[0m\u001b[0;34m.\u001b[0m\u001b[0mname\u001b[0m\u001b[0;34m,\u001b[0m \u001b[0;34m\"rb\"\u001b[0m\u001b[0;34m)\u001b[0m\u001b[0;34m.\u001b[0m\u001b[0mread\u001b[0m\u001b[0;34m(\u001b[0m\u001b[0;34m)\u001b[0m\u001b[0;34m\u001b[0m\u001b[0m\n\u001b[0;32m---> 13\u001b[0;31m         \u001b[0manim\u001b[0m\u001b[0;34m.\u001b[0m\u001b[0m_encoded_video\u001b[0m \u001b[0;34m=\u001b[0m \u001b[0mvideo\u001b[0m\u001b[0;34m.\u001b[0m\u001b[0mencode\u001b[0m\u001b[0;34m(\u001b[0m\u001b[0;34m\"base64\"\u001b[0m\u001b[0;34m)\u001b[0m\u001b[0;34m\u001b[0m\u001b[0m\n\u001b[0m\u001b[1;32m     14\u001b[0m \u001b[0;34m\u001b[0m\u001b[0m\n\u001b[1;32m     15\u001b[0m     \u001b[0;32mreturn\u001b[0m \u001b[0mVIDEO_TAG\u001b[0m\u001b[0;34m.\u001b[0m\u001b[0mformat\u001b[0m\u001b[0;34m(\u001b[0m\u001b[0manim\u001b[0m\u001b[0;34m.\u001b[0m\u001b[0m_encoded_video\u001b[0m\u001b[0;34m)\u001b[0m\u001b[0;34m\u001b[0m\u001b[0m\n",
      "\u001b[0;31mAttributeError\u001b[0m: 'bytes' object has no attribute 'encode'"
     ]
    },
    {
     "data": {
      "text/plain": [
       "<matplotlib.animation.FuncAnimation at 0x10d2d2080>"
      ]
     },
     "metadata": {},
     "output_type": "display_data"
    }
   ],
   "source": [
    "# Here is some animation produced in Jupyter\n",
    "display(anim)"
   ]
  },
  {
   "cell_type": "markdown",
   "metadata": {
    "slideshow": {
     "slide_type": "slide"
    }
   },
   "source": [
    "## Taylor series\n",
    "\n",
    "We learn in Calculus that it is often useful to express certain functions as a sum of monomials. For instance, \n",
    "$$\\exp(x) = 1 + x + \\frac{x^2}{2!} + \\frac{x^3}{3!} + \\frac{x^4}{4!} + \\cdots$$\n",
    "or\n",
    "$$\\arctan(x) = x - \\frac{x^3}{3} + \\frac{x^5}{5} - \\frac{x^7}{7} + \\cdots$$\n",
    "\n",
    "Fourier suggested for periodic functions, it is useful to write them as sums of sines and cosines. For instance:\n",
    "$$ f(x) = \\sin(x) + \\frac{1}{3}\\sin(3x) + \\frac{1}{5}\\sin(5x) + \\cdots$$\n",
    "is a familiar function."
   ]
  },
  {
   "cell_type": "code",
   "execution_count": 8,
   "metadata": {
    "slideshow": {
     "slide_type": "slide"
    }
   },
   "outputs": [
    {
     "data": {
      "text/plain": [
       "[<matplotlib.lines.Line2D at 0x10d3a9ef0>]"
      ]
     },
     "execution_count": 8,
     "metadata": {},
     "output_type": "execute_result"
    },
    {
     "data": {
      "image/png": "[encoded data removed]",
      "text/plain": [
       "<matplotlib.figure.Figure at 0x10d3a90f0>"
      ]
     },
     "metadata": {},
     "output_type": "display_data"
    }
   ],
   "source": [
    "x=np.linspace(-7,7,1000)\n",
    "y=0*x\n",
    "for k in range(1,10000,2):\n",
    "    y += sin(k*x)/k\n",
    "\n",
    "plt.axes(xlim=(-7, 7), ylim=(-1.5, 1.5))\n",
    "plt.plot(x,y)\n"
   ]
  },
  {
   "cell_type": "markdown",
   "metadata": {
    "slideshow": {
     "slide_type": "slide"
    }
   },
   "source": [
    "Now Fourier was a smart cookie, he wasn't  interested in just any functions. \n",
    "\n",
    "He was interested in solved certain differential equations -- usually the heat equation, which was important for drilling cannons (the cannon and drill get really hot), and for hiking around Egypt (Fourier was also an archeologist). \n",
    "\n",
    "But let's look at the wave equation: \n",
    "$$\\frac{\\partial^2 u}{\\partial t^2} = \\frac{\\partial^2 u}{\\partial x^2} \\mbox{ where } u = u(x,t).$$\n",
    "\n",
    "Fourier realized if $u$ was the product of two sines, the 2nd derivative w.r.t. t would bring back a minus sin, as would the 2nd derivative w.r.t. x. So something like this would be a solution:\n",
    "\n",
    "$$u(x,t) = \\sin(x)\\sin(t).$$"
   ]
  },
  {
   "cell_type": "code",
   "execution_count": 9,
   "metadata": {
    "slideshow": {
     "slide_type": "subslide"
    }
   },
   "outputs": [
    {
     "ename": "AttributeError",
     "evalue": "'bytes' object has no attribute 'encode'",
     "output_type": "error",
     "traceback": [
      "\u001b[0;31m---------------------------------------------------------------------------\u001b[0m",
      "\u001b[0;31mAttributeError\u001b[0m                            Traceback (most recent call last)",
      "\u001b[0;32m<ipython-input-9-944883b30de3>\u001b[0m in \u001b[0;36m<module>\u001b[0;34m()\u001b[0m\n\u001b[1;32m     20\u001b[0m                                frames=101, interval=20, blit=True)\n\u001b[1;32m     21\u001b[0m \u001b[0;34m\u001b[0m\u001b[0m\n\u001b[0;32m---> 22\u001b[0;31m \u001b[0mdisplay_animation\u001b[0m\u001b[0;34m(\u001b[0m\u001b[0manim\u001b[0m\u001b[0;34m)\u001b[0m\u001b[0;34m\u001b[0m\u001b[0m\n\u001b[0m",
      "\u001b[0;32m<ipython-input-3-63a8cd04f4be>\u001b[0m in \u001b[0;36mdisplay_animation\u001b[0;34m(anim)\u001b[0m\n\u001b[1;32m      3\u001b[0m \u001b[0;32mdef\u001b[0m \u001b[0mdisplay_animation\u001b[0m\u001b[0;34m(\u001b[0m\u001b[0manim\u001b[0m\u001b[0;34m)\u001b[0m\u001b[0;34m:\u001b[0m\u001b[0;34m\u001b[0m\u001b[0m\n\u001b[1;32m      4\u001b[0m     \u001b[0mplt\u001b[0m\u001b[0;34m.\u001b[0m\u001b[0mclose\u001b[0m\u001b[0;34m(\u001b[0m\u001b[0manim\u001b[0m\u001b[0;34m.\u001b[0m\u001b[0m_fig\u001b[0m\u001b[0;34m)\u001b[0m\u001b[0;34m\u001b[0m\u001b[0m\n\u001b[0;32m----> 5\u001b[0;31m     \u001b[0;32mreturn\u001b[0m \u001b[0mHTML\u001b[0m\u001b[0;34m(\u001b[0m\u001b[0manim_to_html\u001b[0m\u001b[0;34m(\u001b[0m\u001b[0manim\u001b[0m\u001b[0;34m)\u001b[0m\u001b[0;34m)\u001b[0m\u001b[0;34m\u001b[0m\u001b[0m\n\u001b[0m",
      "\u001b[0;32m<ipython-input-2-adbeb94273d0>\u001b[0m in \u001b[0;36manim_to_html\u001b[0;34m(anim)\u001b[0m\n\u001b[1;32m     11\u001b[0m             \u001b[0manim\u001b[0m\u001b[0;34m.\u001b[0m\u001b[0msave\u001b[0m\u001b[0;34m(\u001b[0m\u001b[0mf\u001b[0m\u001b[0;34m.\u001b[0m\u001b[0mname\u001b[0m\u001b[0;34m,\u001b[0m \u001b[0mfps\u001b[0m\u001b[0;34m=\u001b[0m\u001b[0;36m20\u001b[0m\u001b[0;34m,\u001b[0m \u001b[0mextra_args\u001b[0m\u001b[0;34m=\u001b[0m\u001b[0;34m[\u001b[0m\u001b[0;34m'-vcodec'\u001b[0m\u001b[0;34m,\u001b[0m \u001b[0;34m'libx264'\u001b[0m\u001b[0;34m,\u001b[0m \u001b[0;34m'-pix_fmt'\u001b[0m\u001b[0;34m,\u001b[0m \u001b[0;34m'yuv420p'\u001b[0m\u001b[0;34m]\u001b[0m\u001b[0;34m)\u001b[0m\u001b[0;34m\u001b[0m\u001b[0m\n\u001b[1;32m     12\u001b[0m             \u001b[0mvideo\u001b[0m \u001b[0;34m=\u001b[0m \u001b[0mopen\u001b[0m\u001b[0;34m(\u001b[0m\u001b[0mf\u001b[0m\u001b[0;34m.\u001b[0m\u001b[0mname\u001b[0m\u001b[0;34m,\u001b[0m \u001b[0;34m\"rb\"\u001b[0m\u001b[0;34m)\u001b[0m\u001b[0;34m.\u001b[0m\u001b[0mread\u001b[0m\u001b[0;34m(\u001b[0m\u001b[0;34m)\u001b[0m\u001b[0;34m\u001b[0m\u001b[0m\n\u001b[0;32m---> 13\u001b[0;31m         \u001b[0manim\u001b[0m\u001b[0;34m.\u001b[0m\u001b[0m_encoded_video\u001b[0m \u001b[0;34m=\u001b[0m \u001b[0mvideo\u001b[0m\u001b[0;34m.\u001b[0m\u001b[0mencode\u001b[0m\u001b[0;34m(\u001b[0m\u001b[0;34m\"base64\"\u001b[0m\u001b[0;34m)\u001b[0m\u001b[0;34m\u001b[0m\u001b[0m\n\u001b[0m\u001b[1;32m     14\u001b[0m \u001b[0;34m\u001b[0m\u001b[0m\n\u001b[1;32m     15\u001b[0m     \u001b[0;32mreturn\u001b[0m \u001b[0mVIDEO_TAG\u001b[0m\u001b[0;34m.\u001b[0m\u001b[0mformat\u001b[0m\u001b[0;34m(\u001b[0m\u001b[0manim\u001b[0m\u001b[0;34m.\u001b[0m\u001b[0m_encoded_video\u001b[0m\u001b[0;34m)\u001b[0m\u001b[0;34m\u001b[0m\u001b[0m\n",
      "\u001b[0;31mAttributeError\u001b[0m: 'bytes' object has no attribute 'encode'"
     ]
    }
   ],
   "source": [
    "# First set up the figure, the axis, and the plot element we want to animate\n",
    "fig = plt.figure()\n",
    "ax = plt.axes(xlim=(0, np.pi), ylim=(-1, 1))\n",
    "line, = ax.plot([], [], lw=2)\n",
    "\n",
    "# initialization function: plot the background of each frame\n",
    "def init():\n",
    "    line.set_data([], [])\n",
    "    return line,\n",
    "\n",
    "# animation function.  This is called sequentially\n",
    "def animate(i):\n",
    "    x = np.linspace(0, np.pi, 1000)\n",
    "    y = np.sin(x)*np.sin(2*np.pi*i*.01)\n",
    "    line.set_data(x, y)\n",
    "    return line,\n",
    "\n",
    "# call the animator.  blit=True means only re-draw the parts that have changed.\n",
    "anim=animation.FuncAnimation(fig, animate, init_func=init,\n",
    "                               frames=101, interval=20, blit=True)\n",
    "\n",
    "display_animation(anim)"
   ]
  },
  {
   "cell_type": "code",
   "execution_count": null,
   "metadata": {
    "collapsed": true,
    "slideshow": {
     "slide_type": "slide"
    }
   },
   "outputs": [],
   "source": [
    "# Let's look at one period of that sin(x)sin(t)\n",
    "display_animation(anim)"
   ]
  },
  {
   "cell_type": "code",
   "execution_count": null,
   "metadata": {
    "collapsed": true,
    "slideshow": {
     "slide_type": "subslide"
    }
   },
   "outputs": [],
   "source": [
    "# First set up the figure, the axis, and the plot element we want to animate\n",
    "fig = plt.figure()\n",
    "ax = plt.axes(xlim=(0, np.pi), ylim=(-1, 1))\n",
    "line, = ax.plot([], [], lw=2)\n",
    "\n",
    "# initialization function: plot the background of each frame\n",
    "def init():\n",
    "    line.set_data([], [])\n",
    "    return line,\n",
    "\n",
    "# animation function.  This is called sequentially\n",
    "def animate(i):\n",
    "    x = np.linspace(0, np.pi, 1000)\n",
    "    y = np.sin(2*x)*np.sin(2*2*np.pi*i*.01)\n",
    "    line.set_data(x, y)\n",
    "    return line,\n",
    "\n",
    "# call the animator.  blit=True means only re-draw the parts that have changed.\n",
    "anim=animation.FuncAnimation(fig, animate, init_func=init,\n",
    "                               frames=101, interval=20, blit=True)\n",
    "\n",
    "display_animation(anim)"
   ]
  },
  {
   "cell_type": "code",
   "execution_count": null,
   "metadata": {
    "collapsed": true,
    "slideshow": {
     "slide_type": "slide"
    }
   },
   "outputs": [],
   "source": [
    "# The function sin(2x)sin(2t) also works\n",
    "display_animation(anim)"
   ]
  },
  {
   "cell_type": "code",
   "execution_count": null,
   "metadata": {
    "collapsed": true,
    "slideshow": {
     "slide_type": "subslide"
    }
   },
   "outputs": [],
   "source": [
    "# First set up the figure, the axis, and the plot element we want to animate\n",
    "fig = plt.figure()\n",
    "ax = plt.axes(xlim=(0, np.pi), ylim=(-1, 1))\n",
    "line, = ax.plot([], [], lw=2)\n",
    "\n",
    "# initialization function: plot the background of each frame\n",
    "def init():\n",
    "    line.set_data([], [])\n",
    "    return line,\n",
    "\n",
    "# animation function.  This is called sequentially\n",
    "def animate(i):\n",
    "    x = np.linspace(0, np.pi, 1000)\n",
    "    y = np.sin(5*x)*np.sin(5*2*np.pi*i*.01)\n",
    "    line.set_data(x, y)\n",
    "    return line,\n",
    "\n",
    "# call the animator.  blit=True means only re-draw the parts that have changed.\n",
    "anim=animation.FuncAnimation(fig, animate, init_func=init,\n",
    "                               frames=101, interval=20, blit=True)\n",
    "\n",
    "display_animation(anim)"
   ]
  },
  {
   "cell_type": "code",
   "execution_count": null,
   "metadata": {
    "collapsed": true,
    "slideshow": {
     "slide_type": "slide"
    }
   },
   "outputs": [],
   "source": [
    "# How about sin(5x)sin(5t) also works\n",
    "display_animation(anim)"
   ]
  },
  {
   "cell_type": "markdown",
   "metadata": {
    "slideshow": {
     "slide_type": "slide"
    }
   },
   "source": [
    "In general, functions of the form\n",
    "$$ f_n(x,t) = \\sin(nx)\\sin(nt)$$\n",
    "will be solutions to the wave equation. (For any integer n). \n",
    "\n",
    "They also satisfy boundary conditions $f(0,t) = 0 = f(\\pi,t)$ and initial condition $f(x,0) = 0$.\n",
    "\n",
    "Fourier realized all solutions (in some sense) could be written as a sum:\n",
    "$$ f(x,t) = \\sum_n a_n\\sin(nx)\\sin(nt)$$\n",
    "for some coefficients $a_n$. \n",
    "\n",
    "This could include very complex solutions. As follows:"
   ]
  },
  {
   "cell_type": "code",
   "execution_count": null,
   "metadata": {
    "collapsed": true,
    "slideshow": {
     "slide_type": "subslide"
    }
   },
   "outputs": [],
   "source": [
    "# First set up the figure, the axis, and the plot element we want to animate\n",
    "fig = plt.figure()\n",
    "ax = plt.axes(xlim=(0, np.pi), ylim=(-1.4, 1.4))\n",
    "line, = ax.plot([], [], lw=2)\n",
    "\n",
    "# initialization function: plot the background of each frame\n",
    "def init():\n",
    "    line.set_data([], [])\n",
    "    return line,\n",
    "\n",
    "# animation function.  This is called sequentially\n",
    "def animate(i):\n",
    "    x = np.linspace(0, np.pi, 1000)\n",
    "    y = 0*x\n",
    "    for k in range(1,100):\n",
    "        y += (1.0/k**2)*sin(k*x)*sin(k*2*np.pi*i*.01)\n",
    "    line.set_data(x, y)\n",
    "    return line,\n",
    "\n",
    "# call the animator.  blit=True means only re-draw the parts that have changed.\n",
    "anim=animation.FuncAnimation(fig, animate, init_func=init,\n",
    "                               frames=501, interval=20, blit=True)\n",
    "\n",
    "display_animation(anim)"
   ]
  },
  {
   "cell_type": "code",
   "execution_count": null,
   "metadata": {
    "collapsed": true,
    "slideshow": {
     "slide_type": "slide"
    }
   },
   "outputs": [],
   "source": [
    "# A complex waveform\n",
    "display_animation(anim)"
   ]
  },
  {
   "cell_type": "markdown",
   "metadata": {
    "slideshow": {
     "slide_type": "slide"
    }
   },
   "source": [
    "This last waveform is a representation of the motion of a violin string, under bowing.\n",
    "\n",
    "Helmholtz knew this. Did you?\n",
    "\n",
    "The formula is from a Fourier representation,\n",
    "\n",
    "$$f(x,t) = \\sum_n \\frac{1}{n^2}\\sin(nx)\\sin(nt)$$"
   ]
  },
  {
   "cell_type": "code",
   "execution_count": null,
   "metadata": {
    "collapsed": true,
    "slideshow": {
     "slide_type": "subslide"
    }
   },
   "outputs": [],
   "source": [
    "# First set up the figure, the axis, and the plot element we want to animate\n",
    "fig = plt.figure()\n",
    "ax = plt.axes(xlim=(0, np.pi), ylim=(-1.4, 1.4))\n",
    "line, = ax.plot([], [], lw=2)\n",
    "plt.hold(True)\n",
    "\n",
    "# initialization function: plot the background of each frame\n",
    "def init():\n",
    "    plt.plot([], [])\n",
    "    return line,\n",
    "\n",
    "# animation function.  This is called sequentially\n",
    "def animate(i):\n",
    "    x = np.linspace(0, np.pi, 1000)\n",
    "    y = 0*x\n",
    "    for k in range(1,100):\n",
    "        y += (1.0/k**2)*sin(k*x)*sin(k*2*np.pi*i*.01)\n",
    "    plt.plot(x, y)\n",
    "    plt.hold(True)\n",
    "    return line,\n",
    "\n"
   ]
  },
  {
   "cell_type": "code",
   "execution_count": null,
   "metadata": {
    "collapsed": true,
    "slideshow": {
     "slide_type": "slide"
    }
   },
   "outputs": [],
   "source": [
    "# call the animator.  blit=True means only re-draw the parts that have changed.\n",
    "anim=animation.FuncAnimation(fig, animate, init_func=init,\n",
    "                               frames=101, interval=20, blit=True)\n",
    "display_animation(anim)"
   ]
  },
  {
   "cell_type": "markdown",
   "metadata": {
    "slideshow": {
     "slide_type": "slide"
    }
   },
   "source": [
    "Our ears hear the variations in time. Periodic wavefoms have a tone. \n",
    "\n",
    "Our ears can detect the presence of harmonics in the waveform.\n",
    "\n",
    "$$ \\mbox{sinewave} = \\sin(2\\pi f t) \\mbox{ versus  squarewave } = \\sum_n \\frac{1}{n} \\sin(2\\pi nft). $$"
   ]
  },
  {
   "cell_type": "code",
   "execution_count": null,
   "metadata": {
    "collapsed": true,
    "slideshow": {
     "slide_type": "subslide"
    }
   },
   "outputs": [],
   "source": [
    "#import sounddevice as sd\n",
    "from IPython.display import Audio\n",
    "fs = 44100.\n",
    "N = 3*fs\n",
    "time = np.arange(N) / fs\n",
    "freq = 440.\n",
    "sinewave = np.sin(2*np.pi*freq*time)\n",
    "sqwave = np.minimum(5*sinewave,1)\n",
    "sqwave = np.maximum(5*sqwave,-1)\n",
    "Audio(data=sqwave, rate=fs)"
   ]
  },
  {
   "cell_type": "code",
   "execution_count": null,
   "metadata": {
    "collapsed": true,
    "slideshow": {
     "slide_type": "slide"
    }
   },
   "outputs": [],
   "source": [
    "#sd.play(sinewave, fs)\n",
    "Audio(data=sqwave, rate=fs)"
   ]
  },
  {
   "cell_type": "code",
   "execution_count": null,
   "metadata": {
    "collapsed": true,
    "slideshow": {
     "slide_type": "fragment"
    }
   },
   "outputs": [],
   "source": [
    "#sd.play(sqwave, fs)"
   ]
  },
  {
   "cell_type": "markdown",
   "metadata": {
    "slideshow": {
     "slide_type": "slide"
    }
   },
   "source": [
    "Periodic functions (which ones?) can be expressed as a linear combination of sines and cosines:\n",
    "\n",
    "$$ f(t) = \\sum_n a_n \\cos(2\\pi n t) + \\sum_n b_n \\sin(2\\pi n t). $$\n",
    "\n",
    "\n",
    "It is algebraically convenient to express the Fourier series above in terms of complex exponentials\n",
    "\n",
    "\n",
    "$$ f(t) = \\sum_n c_n e^{2\\pi i n t}. $$\n",
    "\n",
    "This \"periodic\" assumption implies that harmonics are at integer multiples of the basic frequency. \n",
    "\n",
    "The ancient Greeks knew this, and we often assume it for musical notes. But it is only an approximation.\n",
    "\n",
    "we need more general transforms for richer collections of signals. \n"
   ]
  },
  {
   "cell_type": "markdown",
   "metadata": {
    "slideshow": {
     "slide_type": "slide"
    }
   },
   "source": [
    "The Fourier transform on the real line, expresses functions as a \"continuous sum\" of complex sinusoids. \n",
    "\n",
    "We can express the function $f(t)$ as an integral:\n",
    "\n",
    "$$f(t) = \\int_{-\\infty}^\\infty \\hat{f}(\\omega) e^{2\\pi i \\omega t} \\, d\\omega.$$\n",
    "\n",
    "Notice this really looks like the Fourier series with the factor $e^{2\\pi i n t}$ replaced by $e^{2\\pi i \\omega t}$, and the sum over integers $n$ replaced with an integral over reals $\\omega$. \n",
    "\n",
    "The function $\\hat{f}$ is called the Fourier transform of $f$.\n",
    "\n",
    "Its value at frequency $\\omega$ is a measure of how much energy at that frequence is present in the signal. \n"
   ]
  },
  {
   "cell_type": "markdown",
   "metadata": {
    "slideshow": {
     "slide_type": "slide"
    }
   },
   "source": [
    "The function $\\hat{f}$ is easily computed as\n",
    "\n",
    "$$\\hat{f}(\\omega) = \\int_{-\\infty}^\\infty f(t) e^{-2\\pi i \\omega t} \\, dt.$$\n",
    "\n",
    "In 3-dimensional space, the Fourier transform generalizes to this:\n",
    "\n",
    "$$f(\\mathbf{x}) = \\int_{\\mathbb{R}^3} \\hat{f}(\\mathbf{w}) e^{2\\pi i \\mathbf{w\\cdot x}} \\, d\\mathbf{w}.$$\n",
    "\n",
    "In fact, the space $\\mathbb{R}^3$ could be replaced with ANY locally compact abelian group.\n",
    "\n",
    "Hence the rich applicability of Fourier theory. "
   ]
  },
  {
   "cell_type": "markdown",
   "metadata": {
    "slideshow": {
     "slide_type": "slide"
    }
   },
   "source": [
    "For instance, derivatives behave very well under the Fourier transform. \n",
    "\n",
    "From our last equation, \n",
    "\n",
    "$$f(\\mathbf{x}) = \\int_{\\mathbb{R}^3} \\hat{f}(\\mathbf{w}) e^{2\\pi i \\mathbf{w\\cdot x}} \\, d\\mathbf{w}.$$\n",
    "\n",
    "we compute\n",
    "\n",
    "$$\\nabla f(\\mathbf{x}) = \n",
    "\\int_{\\mathbb{R}^3} \\hat{f}(\\mathbf{w}) \\left[ \\nabla e^{2\\pi i \\mathbf{w\\cdot x}} \\right] \\, d\\mathbf{w} =\n",
    "\\int_{\\mathbb{R}^3} \\left[ 2\\pi i \\mathbf{w}\\hat{f}(\\mathbf{w}) \\right] e^{2\\pi i \\mathbf{w\\cdot x}} \\, d\\mathbf{w}.\n",
    "$$\n",
    "\n",
    "Which tells us the Fourier transform of $\\nabla f$ is $2\\pi i \\mathbf{w}\\hat{f}(\\mathbf{w})$. \n",
    "\n",
    "That is the gradient (derivative) is transformed into a multiplication operator. \n"
   ]
  },
  {
   "cell_type": "markdown",
   "metadata": {
    "slideshow": {
     "slide_type": "slide"
    }
   },
   "source": [
    "A (constant coefficient) wave equation\n",
    "\n",
    "$$ \\frac{\\partial^2 u}{\\partial t^2} - \\nabla^2 u = 0$$\n",
    "\n",
    "transformed over the spatial variable $\\mathbf{x}$ becomes\n",
    "\n",
    "$$ \\frac{\\partial^2 \\hat{u}}{\\partial t^2} + 4\\pi^2 |\\mathbf{w}|^2 \\hat{u} = 0$$\n",
    "\n",
    "Which is really just an ODE in t. (Notice the multiplier $|\\mathbf{w}|^2$ is a polynomial.)\n",
    "\n",
    "This is Helmholtz equation, and suggests one way to solve the wave equation is to solve for each frequency individually. "
   ]
  },
  {
   "cell_type": "markdown",
   "metadata": {
    "slideshow": {
     "slide_type": "slide"
    }
   },
   "source": [
    "### Pseudodifferential operators\n",
    "\n",
    "When the linear PDE has non-constant coefficients, the differential operator can be expressed in the form\n",
    "\n",
    "$$Df(\\mathbf{x}) = \\int_{\\mathbb{R}^3} a(\\mathbf{x},\\mathbf{w}) \\hat{f}(\\mathbf{w}) e^{2\\pi i \\mathbf{w\\cdot x}} \\, d\\mathbf{w}$$\n",
    "\n",
    "where the function $a(\\mathbf{x},\\mathbf{w}) = \\sum_k a_k(\\mathbf{x})\\mathbf{w}^k$ is a polynomial in $\\mathbf{w}$ with coefficients depending on $\\mathbf{x}$.\n",
    "\n",
    "Enlarge the class of functions allowed for $a(\\mathbf{x},\\mathbf{w})$ and you get the pseudo-differential operators. \n",
    "\n",
    "This function $a(\\mathbf{x},\\mathbf{w})$ gives space-wavenumber information about the operator. \n",
    "\n",
    "(Leading to micro-local analysis of PDEs, etc etc etc)\n",
    "\n"
   ]
  },
  {
   "cell_type": "markdown",
   "metadata": {
    "slideshow": {
     "slide_type": "slide"
    }
   },
   "source": [
    "### Time-frequency analysis\n",
    "\n",
    "The idea is to represent a function $f(t)$ as a sum of localized sinusoids. \n",
    "\n",
    "The Gabor transform (Denis Gabor) expresses the function as sinusoids modified by Gaussians:\n",
    "\n",
    "$$f(t) = \\int \\int G_f(s,\\omega) e^{2\\pi i s\\omega} e^{-(s-t)^2} \\, ds \\, d\\omega.$$\n",
    "\n",
    "The S-transform (Robert Stockwell) varies the width of the Gaussian, and adds a phase shift:\n",
    "\n",
    "$$f(t) = \\int \\int S_f(s,\\omega) e^{2\\pi i (s-t)\\omega} e^{-(s-t)^2\\omega^2} \\, ds \\, d\\omega.$$\n",
    "\n",
    "\n"
   ]
  },
  {
   "cell_type": "markdown",
   "metadata": {
    "slideshow": {
     "slide_type": "slide"
    }
   },
   "source": [
    "### Time-frequency analysis\n",
    "\n",
    "The S-transform is a special case of the continuous wavelet transform (Morley, Meyers, Daubechies, etc etc), \n",
    "\n",
    "which replaces the modulated sinusoid with any wavelet $\\phi(t)$:\n",
    "\n",
    "$$f(t) = \\int \\int W_f(s,a) \\phi(\\frac{s-t}{a}) \\, ds \\, da.$$\n",
    "\n",
    "Here, $a = 1/\\omega$ is the inverse of frequency, called the scale. "
   ]
  },
  {
   "cell_type": "markdown",
   "metadata": {
    "slideshow": {
     "slide_type": "slide"
    }
   },
   "source": [
    "### Note\n",
    "\n",
    "Skipping a lot of detail about normalizing properly, and how to actually compute these transforms. \n",
    "\n",
    "However, it is all amazingly slick. "
   ]
  },
  {
   "cell_type": "markdown",
   "metadata": {
    "slideshow": {
     "slide_type": "slide"
    }
   },
   "source": [
    "All the transforms make an effort to extract local information about time. They all have their merits and drawbacks. \n",
    "\n",
    "Even in simple waveforms, they are very informative.\n",
    "\n",
    "Consider a simple rising chirp:\n",
    "\n",
    "$$f(t) = \\sin(2\\pi \\omega(t) t),$$\n",
    "\n",
    "where $\\omega(t)$ is a slowly rising frequency. We can hear this."
   ]
  },
  {
   "cell_type": "code",
   "execution_count": null,
   "metadata": {
    "collapsed": true,
    "slideshow": {
     "slide_type": "subslide"
    }
   },
   "outputs": [],
   "source": [
    "#import sounddevice as sd\n",
    "from scipy import signal\n",
    "import matplotlib.pyplot as plt"
   ]
  },
  {
   "cell_type": "code",
   "execution_count": null,
   "metadata": {
    "collapsed": true,
    "slideshow": {
     "slide_type": "slide"
    }
   },
   "outputs": [],
   "source": [
    "fs = 22050.\n",
    "N = 10*fs\n",
    "t = np.arange(N) / fs\n",
    "w = np.linspace(1000, 2000, N)\n",
    "x = np.sin(2*np.pi*w*t)\n",
    "#sd.play(x, fs)\n",
    "Audio(data=x, rate=fs)\n"
   ]
  },
  {
   "cell_type": "code",
   "execution_count": null,
   "metadata": {
    "collapsed": true,
    "slideshow": {
     "slide_type": "slide"
    }
   },
   "outputs": [],
   "source": [
    "fxx, txx, Sxx = signal.spectrogram(x, fs)\n",
    "plt.pcolormesh(txx, fxx, Sxx)\n",
    "plt.ylabel('Frequency [Hz]')\n",
    "plt.xlabel('Time [sec]')\n",
    "plt.show()"
   ]
  },
  {
   "cell_type": "code",
   "execution_count": null,
   "metadata": {
    "collapsed": true,
    "slideshow": {
     "slide_type": "slide"
    }
   },
   "outputs": [],
   "source": [
    "\n",
    "# This makes me nervous. It goes way higher than 5000Hz. Let's test\n",
    "\n",
    "x = np.sin(2*np.pi*w*t) + np.sin(2*np.pi*1000*t) + np.sin(2*np.pi*5000*t)\n",
    "#sd.play(x, fs)\n",
    "Audio(data=x, rate=fs)\n"
   ]
  },
  {
   "cell_type": "code",
   "execution_count": null,
   "metadata": {
    "collapsed": true,
    "slideshow": {
     "slide_type": "slide"
    }
   },
   "outputs": [],
   "source": [
    "fxx, txx, Sxx = signal.spectrogram(x, fs)\n",
    "plt.pcolormesh(txx, fxx, Sxx)\n",
    "plt.ylabel('Frequency [Hz]')\n",
    "plt.xlabel('Time [sec]')\n",
    "plt.show()\n"
   ]
  },
  {
   "cell_type": "markdown",
   "metadata": {
    "slideshow": {
     "slide_type": "slide"
    }
   },
   "source": [
    "### Time-frequency Multiplier\n",
    "\n",
    "Just as with pseudodifferential operators, we can introduce linear operators via multiliers\n",
    "\n",
    "The Gabor multiplier:\n",
    "\n",
    "$$A_G f(t) = \\int \\int a(s,\\omega) G_f(s,\\omega) e^{2\\pi i s\\omega} e^{-(s-t)^2} \\, ds \\, d\\omega.$$\n",
    "\n",
    "The S-multiplier:\n",
    "\n",
    "$$A_S f(t) = \\int \\int a(s,\\omega) S_f(s,\\omega) e^{2\\pi i (s-t)\\omega} e^{-(s-t)^2\\omega^2} \\, ds \\, d\\omega.$$\n",
    "\n",
    "The wavelet multiplier:\n",
    "\n",
    "$$A_W f(t) = \\int \\int A(s,a) W_f(s,a) \\phi(\\frac{s-t}{a}) \\, ds \\, da.$$\n",
    "\n"
   ]
  },
  {
   "cell_type": "markdown",
   "metadata": {
    "slideshow": {
     "slide_type": "slide"
    }
   },
   "source": [
    "### Theorem (Gibson, L, Margrave. 2013)\n",
    "\n",
    "Exact formulas for describing a pseudodifferential operator in terms of a Gabor multiplier, and vice versa. \n",
    "\n",
    "### Applications\n",
    "\n",
    "Wave field propagators for seismic imaging.\n",
    "\n",
    "### Low hanging fruit\n",
    "\n",
    "What about S-sultipliers, Wavelet-multipliers?"
   ]
  },
  {
   "cell_type": "markdown",
   "metadata": {
    "slideshow": {
     "slide_type": "slide"
    }
   },
   "source": [
    "# Thank you for your attention"
   ]
  },
  {
   "cell_type": "markdown",
   "metadata": {
    "slideshow": {
     "slide_type": "slide"
    }
   },
   "source": [
    "# To do:\n",
    "\n",
    "- what you hear is related to the time varying parts\n",
    "- note the harmonic, go as integers\n",
    "- the Greeks knew this. Did you?\n",
    "\n",
    "- with a bending moment, the harmonics are not as integers\n",
    "- give an example\n",
    "- plot to compare with harmonic case\n",
    "- can we hear this\n",
    "\n",
    "- for a drum head, zeros of some functions\n",
    "- for a weighted drum head, you can get integer harmoncs\n",
    "\n",
    "- Fourier transfors,\n",
    "- short time Fourier transforms\n",
    "- Gabor transforms\n",
    "- wavelet transforms\n",
    "\n",
    "- linear operators in this domain\n",
    "- differential operators\n",
    "- pseudodifferential operators\n",
    "- Gabor multipliers\n",
    "\n",
    "- Some applications"
   ]
  },
  {
   "cell_type": "code",
   "execution_count": null,
   "metadata": {
    "collapsed": true
   },
   "outputs": [],
   "source": []
  }
 ],
 "metadata": {
  "celltoolbar": "Slideshow",
  "kernelspec": {
   "display_name": "Python 3",
   "language": "python",
   "name": "python3"
  },
  "language_info": {
   "codemirror_mode": {
    "name": "ipython",
    "version": 3
   },
   "file_extension": ".py",
   "mimetype": "text/x-python",
   "name": "python",
   "nbconvert_exporter": "python",
   "pygments_lexer": "ipython3",
   "version": "3.6.1"
  }
 },
 "nbformat": 4,
 "nbformat_minor": 1
}
