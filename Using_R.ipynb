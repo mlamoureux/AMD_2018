{
 "cells": [
  {
   "cell_type": "markdown",
   "metadata": {},
   "source": [
    "## Using R in Jupyter notebooks.\n",
    "\n",
    "-- see the file on Using Python in Jupyter for some basics on Jupyter. This file is only about the R language."
   ]
  },
  {
   "cell_type": "markdown",
   "metadata": {},
   "source": [
    "R knows about integers, floating point numbers, even complex numbers like  1+2i."
   ]
  },
  {
   "cell_type": "code",
   "execution_count": 1,
   "metadata": {},
   "outputs": [
    {
     "data": {
      "text/html": [
       "4"
      ],
      "text/latex": [
       "4"
      ],
      "text/markdown": [
       "4"
      ],
      "text/plain": [
       "[1] 4"
      ]
     },
     "metadata": {},
     "output_type": "display_data"
    }
   ],
   "source": [
    "2+2"
   ]
  },
  {
   "cell_type": "code",
   "execution_count": 2,
   "metadata": {},
   "outputs": [
    {
     "data": {
      "text/html": [
       "0.0998334166468282"
      ],
      "text/latex": [
       "0.0998334166468282"
      ],
      "text/markdown": [
       "0.0998334166468282"
      ],
      "text/plain": [
       "[1] 0.09983342"
      ]
     },
     "metadata": {},
     "output_type": "display_data"
    }
   ],
   "source": [
    "sin(.1)"
   ]
  },
  {
   "cell_type": "code",
   "execution_count": 3,
   "metadata": {},
   "outputs": [
    {
     "data": {
      "text/html": [
       "-1+0i"
      ],
      "text/latex": [
       "-1+0i"
      ],
      "text/markdown": [
       "-1+0i"
      ],
      "text/plain": [
       "[1] -1+0i"
      ]
     },
     "metadata": {},
     "output_type": "display_data"
    }
   ],
   "source": [
    "1i*1i"
   ]
  },
  {
   "cell_type": "code",
   "execution_count": 4,
   "metadata": {},
   "outputs": [
    {
     "data": {
      "text/html": [
       "-4+7i"
      ],
      "text/latex": [
       "-4+7i"
      ],
      "text/markdown": [
       "-4+7i"
      ],
      "text/plain": [
       "[1] -4+7i"
      ]
     },
     "metadata": {},
     "output_type": "display_data"
    }
   ],
   "source": [
    "(1+2i)*(2+3i)"
   ]
  },
  {
   "cell_type": "markdown",
   "metadata": {},
   "source": [
    "A vector is a concatenation of numbers, so use the **c** operator for form the vector.\n",
    "\n",
    "A variable can be assigned using either the equals sign, or the assignment arrow. "
   ]
  },
  {
   "cell_type": "code",
   "execution_count": 5,
   "metadata": {
    "collapsed": true
   },
   "outputs": [],
   "source": [
    "x <- c(10.4, 5.6, 3.1, 6.4, 21.7)"
   ]
  },
  {
   "cell_type": "code",
   "execution_count": 6,
   "metadata": {},
   "outputs": [
    {
     "data": {
      "text/html": [
       "<ol class=list-inline>\n",
       "\t<li>10.4</li>\n",
       "\t<li>5.6</li>\n",
       "\t<li>3.1</li>\n",
       "\t<li>6.4</li>\n",
       "\t<li>21.7</li>\n",
       "</ol>\n"
      ],
      "text/latex": [
       "\\begin{enumerate*}\n",
       "\\item 10.4\n",
       "\\item 5.6\n",
       "\\item 3.1\n",
       "\\item 6.4\n",
       "\\item 21.7\n",
       "\\end{enumerate*}\n"
      ],
      "text/markdown": [
       "1. 10.4\n",
       "2. 5.6\n",
       "3. 3.1\n",
       "4. 6.4\n",
       "5. 21.7\n",
       "\n",
       "\n"
      ],
      "text/plain": [
       "[1] 10.4  5.6  3.1  6.4 21.7"
      ]
     },
     "metadata": {},
     "output_type": "display_data"
    }
   ],
   "source": [
    "x"
   ]
  },
  {
   "cell_type": "code",
   "execution_count": 7,
   "metadata": {
    "collapsed": true
   },
   "outputs": [],
   "source": [
    "y = c(x,2,2,x)"
   ]
  },
  {
   "cell_type": "code",
   "execution_count": 8,
   "metadata": {},
   "outputs": [
    {
     "data": {
      "text/html": [
       "<ol class=list-inline>\n",
       "\t<li>10.4</li>\n",
       "\t<li>5.6</li>\n",
       "\t<li>3.1</li>\n",
       "\t<li>6.4</li>\n",
       "\t<li>21.7</li>\n",
       "\t<li>2</li>\n",
       "\t<li>2</li>\n",
       "\t<li>10.4</li>\n",
       "\t<li>5.6</li>\n",
       "\t<li>3.1</li>\n",
       "\t<li>6.4</li>\n",
       "\t<li>21.7</li>\n",
       "</ol>\n"
      ],
      "text/latex": [
       "\\begin{enumerate*}\n",
       "\\item 10.4\n",
       "\\item 5.6\n",
       "\\item 3.1\n",
       "\\item 6.4\n",
       "\\item 21.7\n",
       "\\item 2\n",
       "\\item 2\n",
       "\\item 10.4\n",
       "\\item 5.6\n",
       "\\item 3.1\n",
       "\\item 6.4\n",
       "\\item 21.7\n",
       "\\end{enumerate*}\n"
      ],
      "text/markdown": [
       "1. 10.4\n",
       "2. 5.6\n",
       "3. 3.1\n",
       "4. 6.4\n",
       "5. 21.7\n",
       "6. 2\n",
       "7. 2\n",
       "8. 10.4\n",
       "9. 5.6\n",
       "10. 3.1\n",
       "11. 6.4\n",
       "12. 21.7\n",
       "\n",
       "\n"
      ],
      "text/plain": [
       " [1] 10.4  5.6  3.1  6.4 21.7  2.0  2.0 10.4  5.6  3.1  6.4 21.7"
      ]
     },
     "metadata": {},
     "output_type": "display_data"
    }
   ],
   "source": [
    "y"
   ]
  },
  {
   "cell_type": "markdown",
   "metadata": {},
   "source": [
    "R has a funny way of adding vectors of different lengths. It just recycles the entries from the shorter vector."
   ]
  },
  {
   "cell_type": "code",
   "execution_count": 9,
   "metadata": {},
   "outputs": [
    {
     "name": "stderr",
     "output_type": "stream",
     "text": [
      "Warning message in x + y:\n",
      "“longer object length is not a multiple of shorter object length”"
     ]
    },
    {
     "data": {
      "text/html": [
       "<ol class=list-inline>\n",
       "\t<li>20.8</li>\n",
       "\t<li>11.2</li>\n",
       "\t<li>6.2</li>\n",
       "\t<li>12.8</li>\n",
       "\t<li>43.4</li>\n",
       "\t<li>12.4</li>\n",
       "\t<li>7.6</li>\n",
       "\t<li>13.5</li>\n",
       "\t<li>12</li>\n",
       "\t<li>24.8</li>\n",
       "\t<li>16.8</li>\n",
       "\t<li>27.3</li>\n",
       "</ol>\n"
      ],
      "text/latex": [
       "\\begin{enumerate*}\n",
       "\\item 20.8\n",
       "\\item 11.2\n",
       "\\item 6.2\n",
       "\\item 12.8\n",
       "\\item 43.4\n",
       "\\item 12.4\n",
       "\\item 7.6\n",
       "\\item 13.5\n",
       "\\item 12\n",
       "\\item 24.8\n",
       "\\item 16.8\n",
       "\\item 27.3\n",
       "\\end{enumerate*}\n"
      ],
      "text/markdown": [
       "1. 20.8\n",
       "2. 11.2\n",
       "3. 6.2\n",
       "4. 12.8\n",
       "5. 43.4\n",
       "6. 12.4\n",
       "7. 7.6\n",
       "8. 13.5\n",
       "9. 12\n",
       "10. 24.8\n",
       "11. 16.8\n",
       "12. 27.3\n",
       "\n",
       "\n"
      ],
      "text/plain": [
       " [1] 20.8 11.2  6.2 12.8 43.4 12.4  7.6 13.5 12.0 24.8 16.8 27.3"
      ]
     },
     "metadata": {},
     "output_type": "display_data"
    }
   ],
   "source": [
    "x+y"
   ]
  },
  {
   "cell_type": "code",
   "execution_count": 10,
   "metadata": {},
   "outputs": [
    {
     "data": {
      "text/html": [
       "<ol class=list-inline>\n",
       "\t<li>0.0961538461538461</li>\n",
       "\t<li>0.178571428571429</li>\n",
       "\t<li>0.32258064516129</li>\n",
       "\t<li>0.15625</li>\n",
       "\t<li>0.0460829493087558</li>\n",
       "</ol>\n"
      ],
      "text/latex": [
       "\\begin{enumerate*}\n",
       "\\item 0.0961538461538461\n",
       "\\item 0.178571428571429\n",
       "\\item 0.32258064516129\n",
       "\\item 0.15625\n",
       "\\item 0.0460829493087558\n",
       "\\end{enumerate*}\n"
      ],
      "text/markdown": [
       "1. 0.0961538461538461\n",
       "2. 0.178571428571429\n",
       "3. 0.32258064516129\n",
       "4. 0.15625\n",
       "5. 0.0460829493087558\n",
       "\n",
       "\n"
      ],
      "text/plain": [
       "[1] 0.09615385 0.17857143 0.32258065 0.15625000 0.04608295"
      ]
     },
     "metadata": {},
     "output_type": "display_data"
    }
   ],
   "source": [
    "1/x"
   ]
  },
  {
   "cell_type": "code",
   "execution_count": 11,
   "metadata": {},
   "outputs": [
    {
     "name": "stderr",
     "output_type": "stream",
     "text": [
      "Warning message in y/x:\n",
      "“longer object length is not a multiple of shorter object length”"
     ]
    },
    {
     "data": {
      "text/html": [
       "<ol class=list-inline>\n",
       "\t<li>1</li>\n",
       "\t<li>1</li>\n",
       "\t<li>1</li>\n",
       "\t<li>1</li>\n",
       "\t<li>1</li>\n",
       "\t<li>0.192307692307692</li>\n",
       "\t<li>0.357142857142857</li>\n",
       "\t<li>3.35483870967742</li>\n",
       "\t<li>0.875</li>\n",
       "\t<li>0.142857142857143</li>\n",
       "\t<li>0.615384615384615</li>\n",
       "\t<li>3.875</li>\n",
       "</ol>\n"
      ],
      "text/latex": [
       "\\begin{enumerate*}\n",
       "\\item 1\n",
       "\\item 1\n",
       "\\item 1\n",
       "\\item 1\n",
       "\\item 1\n",
       "\\item 0.192307692307692\n",
       "\\item 0.357142857142857\n",
       "\\item 3.35483870967742\n",
       "\\item 0.875\n",
       "\\item 0.142857142857143\n",
       "\\item 0.615384615384615\n",
       "\\item 3.875\n",
       "\\end{enumerate*}\n"
      ],
      "text/markdown": [
       "1. 1\n",
       "2. 1\n",
       "3. 1\n",
       "4. 1\n",
       "5. 1\n",
       "6. 0.192307692307692\n",
       "7. 0.357142857142857\n",
       "8. 3.35483870967742\n",
       "9. 0.875\n",
       "10. 0.142857142857143\n",
       "11. 0.615384615384615\n",
       "12. 3.875\n",
       "\n",
       "\n"
      ],
      "text/plain": [
       " [1] 1.0000000 1.0000000 1.0000000 1.0000000 1.0000000 0.1923077 0.3571429\n",
       " [8] 3.3548387 0.8750000 0.1428571 0.6153846 3.8750000"
      ]
     },
     "metadata": {},
     "output_type": "display_data"
    }
   ],
   "source": [
    "y/x"
   ]
  },
  {
   "cell_type": "code",
   "execution_count": 10,
   "metadata": {},
   "outputs": [
    {
     "data": {
      "text/html": [
       "9.44"
      ],
      "text/latex": [
       "9.44"
      ],
      "text/markdown": [
       "9.44"
      ],
      "text/plain": [
       "[1] 9.44"
      ]
     },
     "metadata": {},
     "output_type": "display_data"
    }
   ],
   "source": [
    "mean(x)"
   ]
  },
  {
   "cell_type": "code",
   "execution_count": 11,
   "metadata": {},
   "outputs": [
    {
     "data": {
      "text/html": [
       "53.853"
      ],
      "text/latex": [
       "53.853"
      ],
      "text/markdown": [
       "53.853"
      ],
      "text/plain": [
       "[1] 53.853"
      ]
     },
     "metadata": {},
     "output_type": "display_data"
    }
   ],
   "source": [
    "var(x)"
   ]
  },
  {
   "cell_type": "code",
   "execution_count": 12,
   "metadata": {},
   "outputs": [
    {
     "data": {
      "text/html": [
       "53.853"
      ],
      "text/latex": [
       "53.853"
      ],
      "text/markdown": [
       "53.853"
      ],
      "text/plain": [
       "[1] 53.853"
      ]
     },
     "metadata": {},
     "output_type": "display_data"
    }
   ],
   "source": [
    "# a direct way to compute the variance\n",
    "sum((x-mean(x))^2)/(length(x)-1)"
   ]
  },
  {
   "cell_type": "markdown",
   "metadata": {},
   "source": [
    "### Matrices\n",
    "Be careful with matrices. They are treated as lists of numbers, with a dimension attached.\n",
    "\n",
    "The star operator does a entry-by-entry multiplication, which is NOT matrix multiplication. \n",
    "\n",
    "For matrix multiplication, use\n",
    "```\n",
    "m %*% m\n",
    "```"
   ]
  },
  {
   "cell_type": "code",
   "execution_count": 15,
   "metadata": {
    "collapsed": true
   },
   "outputs": [],
   "source": [
    "m = array(c(1,2,3,4),dim=c(2,2))"
   ]
  },
  {
   "cell_type": "code",
   "execution_count": 16,
   "metadata": {},
   "outputs": [
    {
     "data": {
      "text/html": [
       "<table>\n",
       "<tbody>\n",
       "\t<tr><td>1</td><td>3</td></tr>\n",
       "\t<tr><td>2</td><td>4</td></tr>\n",
       "</tbody>\n",
       "</table>\n"
      ],
      "text/latex": [
       "\\begin{tabular}{ll}\n",
       "\t 1 & 3\\\\\n",
       "\t 2 & 4\\\\\n",
       "\\end{tabular}\n"
      ],
      "text/markdown": [
       "\n",
       "| 1 | 3 | \n",
       "| 2 | 4 | \n",
       "\n",
       "\n"
      ],
      "text/plain": [
       "     [,1] [,2]\n",
       "[1,] 1    3   \n",
       "[2,] 2    4   "
      ]
     },
     "metadata": {},
     "output_type": "display_data"
    }
   ],
   "source": [
    "m"
   ]
  },
  {
   "cell_type": "code",
   "execution_count": 17,
   "metadata": {},
   "outputs": [
    {
     "data": {
      "text/html": [
       "-2"
      ],
      "text/latex": [
       "-2"
      ],
      "text/markdown": [
       "-2"
      ],
      "text/plain": [
       "[1] -2"
      ]
     },
     "metadata": {},
     "output_type": "display_data"
    }
   ],
   "source": [
    "det(m)"
   ]
  },
  {
   "cell_type": "code",
   "execution_count": 18,
   "metadata": {},
   "outputs": [
    {
     "data": {
      "text/html": [
       "<table>\n",
       "<tbody>\n",
       "\t<tr><td>1 </td><td> 9</td></tr>\n",
       "\t<tr><td>4 </td><td>16</td></tr>\n",
       "</tbody>\n",
       "</table>\n"
      ],
      "text/latex": [
       "\\begin{tabular}{ll}\n",
       "\t 1  &  9\\\\\n",
       "\t 4  & 16\\\\\n",
       "\\end{tabular}\n"
      ],
      "text/markdown": [
       "\n",
       "| 1  |  9 | \n",
       "| 4  | 16 | \n",
       "\n",
       "\n"
      ],
      "text/plain": [
       "     [,1] [,2]\n",
       "[1,] 1     9  \n",
       "[2,] 4    16  "
      ]
     },
     "metadata": {},
     "output_type": "display_data"
    }
   ],
   "source": [
    "m*m"
   ]
  },
  {
   "cell_type": "code",
   "execution_count": 19,
   "metadata": {},
   "outputs": [
    {
     "data": {
      "text/html": [
       "<table>\n",
       "<tbody>\n",
       "\t<tr><td> 7</td><td>15</td></tr>\n",
       "\t<tr><td>10</td><td>22</td></tr>\n",
       "</tbody>\n",
       "</table>\n"
      ],
      "text/latex": [
       "\\begin{tabular}{ll}\n",
       "\t  7 & 15\\\\\n",
       "\t 10 & 22\\\\\n",
       "\\end{tabular}\n"
      ],
      "text/markdown": [
       "\n",
       "|  7 | 15 | \n",
       "| 10 | 22 | \n",
       "\n",
       "\n"
      ],
      "text/plain": [
       "     [,1] [,2]\n",
       "[1,]  7   15  \n",
       "[2,] 10   22  "
      ]
     },
     "metadata": {},
     "output_type": "display_data"
    }
   ],
   "source": [
    "m%*%m"
   ]
  },
  {
   "cell_type": "code",
   "execution_count": 20,
   "metadata": {},
   "outputs": [
    {
     "data": {
      "text/html": [
       "<table>\n",
       "<tbody>\n",
       "\t<tr><td>1 </td><td> 9</td></tr>\n",
       "\t<tr><td>4 </td><td>16</td></tr>\n",
       "</tbody>\n",
       "</table>\n"
      ],
      "text/latex": [
       "\\begin{tabular}{ll}\n",
       "\t 1  &  9\\\\\n",
       "\t 4  & 16\\\\\n",
       "\\end{tabular}\n"
      ],
      "text/markdown": [
       "\n",
       "| 1  |  9 | \n",
       "| 4  | 16 | \n",
       "\n",
       "\n"
      ],
      "text/plain": [
       "     [,1] [,2]\n",
       "[1,] 1     9  \n",
       "[2,] 4    16  "
      ]
     },
     "metadata": {},
     "output_type": "display_data"
    }
   ],
   "source": [
    "m^2"
   ]
  },
  {
   "cell_type": "markdown",
   "metadata": {},
   "source": [
    "### Plotting"
   ]
  },
  {
   "cell_type": "code",
   "execution_count": 13,
   "metadata": {},
   "outputs": [
    {
     "data": {
      "image/png": "[encoded data removed]",
      "text/plain": [
       "plot without title"
      ]
     },
     "metadata": {},
     "output_type": "display_data"
    }
   ],
   "source": [
    "plot(c(1,2,3,4))"
   ]
  },
  {
   "cell_type": "code",
   "execution_count": 14,
   "metadata": {},
   "outputs": [
    {
     "data": {
      "image/png": "[encoded data removed]",
      "text/plain": [
       "Plot with title “Autos”"
      ]
     },
     "metadata": {},
     "output_type": "display_data"
    }
   ],
   "source": [
    "# Define 2 vectors\n",
    "cars <- c(1, 3, 6, 4, 9)\n",
    "trucks <- c(2, 5, 4, 5, 12)\n",
    "\n",
    "# Graph cars using a y axis that ranges from 0 to 12\n",
    "plot(cars, type=\"o\", col=\"blue\", ylim=c(0,12))\n",
    "\n",
    "# Graph trucks with red dashed line and square points\n",
    "lines(trucks, type=\"o\", pch=22, lty=2, col=\"red\")\n",
    "\n",
    "# Create a title with a red, bold/italic font\n",
    "title(main=\"Autos\", col.main=\"red\", font.main=4)"
   ]
  },
  {
   "cell_type": "markdown",
   "metadata": {},
   "source": [
    "### Going further\n",
    "\n",
    "Here is a good reference to the R language, which I've just been following along as I learn it in Jupyter.\n",
    "\n",
    "[An Introduction to R](https://cran.r-project.org/doc/manuals/r-release/R-intro.pdf)"
   ]
  },
  {
   "cell_type": "code",
   "execution_count": null,
   "metadata": {
    "collapsed": true
   },
   "outputs": [],
   "source": []
  }
 ],
 "metadata": {
  "kernelspec": {
   "display_name": "R",
   "language": "R",
   "name": "ir"
  },
  "language_info": {
   "codemirror_mode": "r",
   "file_extension": ".r",
   "mimetype": "text/x-r-source",
   "name": "R",
   "pygments_lexer": "r",
   "version": "3.3.2"
  }
 },
 "nbformat": 4,
 "nbformat_minor": 2
}
